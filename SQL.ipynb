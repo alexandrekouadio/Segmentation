{
 "cells": [
  {
   "cell_type": "code",
   "execution_count": 1,
   "metadata": {},
   "outputs": [],
   "source": [
    "import sqlite3\n",
    "import matplotlib.pyplot as plt \n",
    "import seaborn as sns \n",
    "import pandas as pd\n",
    "connection = sqlite3.connect('C:/Users/kouadio/Database.db')"
   ]
  },
  {
   "cell_type": "code",
   "execution_count": 2,
   "metadata": {},
   "outputs": [],
   "source": [
    "cursor = connection.cursor()"
   ]
  },
  {
   "cell_type": "code",
   "execution_count": 3,
   "metadata": {},
   "outputs": [],
   "source": [
    "x=cursor.execute(\"SELECT * FROM sqlite_master where type='table'\")\n"
   ]
  },
  {
   "cell_type": "code",
   "execution_count": 4,
   "metadata": {},
   "outputs": [
    {
     "data": {
      "text/plain": [
       "<sqlite3.Cursor at 0x28fb4fe8420>"
      ]
     },
     "execution_count": 4,
     "metadata": {},
     "output_type": "execute_result"
    }
   ],
   "source": [
    "select = \"SELECT * FROM orders\"\n",
    "cursor.execute(select)"
   ]
  },
  {
   "cell_type": "markdown",
   "metadata": {},
   "source": [
    "## Customers"
   ]
  },
  {
   "cell_type": "code",
   "execution_count": 5,
   "metadata": {},
   "outputs": [],
   "source": [
    "query2 =\"\"\"\n",
    "    SELECT orders.customer_id, ROUND(SUM(items.price + items.freight_value),2) AS sales\n",
    "    FROM orders\n",
    "    INNER JOIN items \n",
    "    ON items.order_id = orders.order_id\n",
    "    GROUP BY customer_id\n",
    "    \"\"\""
   ]
  },
  {
   "cell_type": "code",
   "execution_count": 6,
   "metadata": {},
   "outputs": [],
   "source": [
    "cursor.execute(query2)\n",
    "result2 = cursor.fetchall()"
   ]
  },
  {
   "cell_type": "code",
   "execution_count": 7,
   "metadata": {},
   "outputs": [
    {
     "data": {
      "text/plain": [
       "[('00012a2ce6f8dcda20d059ce98491703', 114.74),\n",
       " ('000161a058600d5901f007fab4c27140', 67.41),\n",
       " ('0001fd6190edaaf884bcaf3d49edf079', 195.42),\n",
       " ('0002414f95344307404f0ace7a26f1d5', 179.35),\n",
       " ('000379cdec625522490c315e70c7a9fb', 107.01),\n",
       " ('0004164d20a9e969af783496f3408652', 71.8),\n",
       " ('000419c5494106c306a97b5635748086', 49.4),\n",
       " ('00046a560d407e99b969756e0b10f282', 166.59),\n",
       " ('00050bf6e01e69d5c0fd612f1bcfb69c', 85.23),\n",
       " ('000598caf2ef4117407665ac33275130', 1255.71),\n",
       " ('0005aefbb696d34b3424dccd0a0e9fd0', 147.33),\n",
       " ('00062b33cb9f6fe976afdcff967ea74d', 58.95),\n",
       " ('00066ccbe787a588c52bd5ff404590e3', 270.0),\n",
       " ('00072d033fe2e59061ae5c3aff1a2be5', 106.97),\n",
       " ('0009a69b72033b2d0ec8c69fc70ef768', 173.6),\n",
       " ('000bf8121c3412d3057d32371c5d3395', 45.56),\n",
       " ('000e943451fc2788ca6ac98a682f2f49', 106.23),\n",
       " ('000f17e290c26b28549908a04cfe36c1', 139.52),\n",
       " ('000fd45d6fedae68fc6676036610f879', 66.81),\n",
       " ('0010068a73b7c56da5758c3f9e5c7375', 54.83),\n",
       " ('001028b78fd413e19704b3867c369d3a', 37.61),\n",
       " ('00104a47c29da701ce41ee52077587d9', 100.34),\n",
       " ('001051abfcfdbed9f87b4266213a5df1', 65.2),\n",
       " ('00114026c1b7b52ab1773f317ef4880b', 66.01),\n",
       " ('001226b2341ef620415ce7bbafcfac28', 47.53),\n",
       " ('0012a5c13793cf51e253f096a7e740dd', 369.92),\n",
       " ('0013280441d86a4f7a8006efdaf1b0fe', 162.15),\n",
       " ('0013cd8e350a7cc76873441e431dd5ee', 92.6),\n",
       " ('001450ebb4a77efb3d68be5f7887cb1e', 61.33),\n",
       " ('00146ad30454993879adaa91c518f68c', 221.79),\n",
       " ('00155f0530cc7b2bf73cc3f81cb01c52', 40.75),\n",
       " ('0015bc9fd2d5395446143e8b215d7c75', 132.19),\n",
       " ('0015f7887e2fde13ddaa7b8e385af919', 186.74),\n",
       " ('0017a0b4c1f1bdb9c395fa0ac517109c', 50.01),\n",
       " ('0018c09f333634ca9c80d9ff46e43e9c', 56.87),\n",
       " ('0018f7fde63ca77254dbc47f4ea358b2', 51.27),\n",
       " ('0019c9aaad15b043c48f0a1180f22ce8', 112.83),\n",
       " ('001a57041f56400917a187dd74e6cbc1', 53.72),\n",
       " ('001b4e9b73aa98a6276b241bfd496822', 82.87),\n",
       " ('001c7f05398c45b42eee0d5a77783bca', 21.94),\n",
       " ('001df1ee5c36767aa607001ab1a13a06', 42.86),\n",
       " ('001f150aebb5d897f2059b0460c38449', 125.97),\n",
       " ('001f35d9f262c558fd065346fbf5801d', 46.53),\n",
       " ('001f6f1a5e902ad14e1f709a7215de11', 34.86),\n",
       " ('00205ad9ba1ef4340cef86583294cf82', 928.7),\n",
       " ('002236c4f333bc8df6a5939749eb7869', 69.84),\n",
       " ('002348c1099e3229276c8ad7d4ddc702', 249.56),\n",
       " ('002408f390f729598bbac1ef9421c6ae', 258.01),\n",
       " ('002450e9ea44cb90b8a07ba0b197e149', 40.0),\n",
       " ('002554bdf9eb99618d8189c3a89fdd52', 244.08),\n",
       " ('0026955706fd4e2fa997f3f4c18d485a', 121.9),\n",
       " ('0026d252429f669d454d726e5e956aa1', 139.15),\n",
       " ('002834b4d901534f48d9e9a72047b288', 214.14),\n",
       " ('0028ff36263a86bf679df7c863a0a0ba', 74.94),\n",
       " ('002905287304e28c0218389269b4759b', 31.7),\n",
       " ('002937abdae13680e17dccd3868b4825', 43.55),\n",
       " ('0029cdf064769cabdf3186b54d068c99', 483.7),\n",
       " ('002a10e899b62a460b0116e0b68697ad', 92.81),\n",
       " ('002b24cb2cd0c3e575040dbd278885e3', 40.22),\n",
       " ('002c625393dfa194828b462a6ef8cb0b', 371.87),\n",
       " ('002ce108ccf0356ef5c8b1dce3c0ae29', 185.6),\n",
       " ('002d358e2462f87678443706cbf2eb21', 45.61),\n",
       " ('002d597546b2cf44428232c9f237f873', 117.74),\n",
       " ('002ebb669a34b9e79c88efc755e95322', 133.57),\n",
       " ('002ef7e55600d44ead53f7c1644e5222', 199.02),\n",
       " ('002f067b028a3643ad3a0969c7a0f3dc', 107.84),\n",
       " ('002f90a6eb386bc43bc9ba200db31a89', 153.51),\n",
       " ('002fb8fc5ce64f8422fa2fe79986c783', 67.68),\n",
       " ('002ff70a5285669011090c077ef929af', 81.14),\n",
       " ('00302a0b99783c3d1d1e81c616e321e8', 159.48),\n",
       " ('0030aded3a67b29946a128ee8468388e', 58.59),\n",
       " ('0030fbb95fbe7e61f798a80edb01a8e9', 26.85),\n",
       " ('00314f95a054231742e3c5396b333b88', 59.34),\n",
       " ('003177b3eeca50af17750f53802c9a09', 133.81),\n",
       " ('0031abfb953b66e998f67b09e7b11375', 671.85),\n",
       " ('0031c1062edf836ef7a7a7ea758b137b', 81.0),\n",
       " ('00330644cccc5db0276fa836976306fe', 55.1),\n",
       " ('00331de1659c7f4fb660c8810e6de3f5', 243.69),\n",
       " ('0033823ee55671ac5317d423291333c2', 79.48),\n",
       " ('0034f7933de3ead6bd9ba49afe95f119', 84.24),\n",
       " ('003536ce5e18f1d12b9bf76932f8a6b1', 53.33),\n",
       " ('0035b30e58c620fa2bd30275ddd4f7ef', 78.2),\n",
       " ('0036875772a8eeb391b8cd7226283fdd', 61.85),\n",
       " ('00380c010de38d578d02117f6d0b88e7', 64.1),\n",
       " ('0039b3e41ac6615814a0b44a8992bff5', 34.59),\n",
       " ('003a75d228dc67cb2918e40c2aacc4bf', 79.28),\n",
       " ('003b595c764773e20e0949b6fba7b1dc', 25.46),\n",
       " ('003bc8d06ebed9d146eb9f100d0a89ae', 600.04),\n",
       " ('003bdf7fd8312f9d14a4b979f3747334', 43.68),\n",
       " ('003c7cadba4f182b9f22d7d5ea7a5003', 128.25),\n",
       " ('003cb2c7ce25d8af8556fb456f903546', 420.94),\n",
       " ('003cbe6a43560a8b6fd2c07531257c2d', 27.75),\n",
       " ('003e45472805afa1ee701d83284fa22b', 30.6),\n",
       " ('003eab528664e1bd677218ef4be086ac', 77.1),\n",
       " ('003ec17a1389fa302f3a0423dddd8650', 17.77),\n",
       " ('003f7d92ac63c512bb6584219806f8df', 84.91),\n",
       " ('0040a8417928d0d5abd5169cd7877181', 219.49),\n",
       " ('0040b00970e2139e8c43b647c0da5305', 41.93),\n",
       " ('00411811e3b661e746a6e1ce1f0878ab', 367.2),\n",
       " ('0041d7b768cb115092fa0f5d55638d06', 81.32)]"
      ]
     },
     "execution_count": 7,
     "metadata": {},
     "output_type": "execute_result"
    }
   ],
   "source": [
    "result2[:100]"
   ]
  },
  {
   "cell_type": "code",
   "execution_count": 8,
   "metadata": {},
   "outputs": [],
   "source": [
    "query2_10 = (\n",
    "    \"\"\"SELECT orders.customer_id, ROUND(SUM(items.price + items.freight_value),2) AS sales\n",
    "    FROM orders\n",
    "    INNER JOIN items \n",
    "    ON items.order_id = orders.order_id\n",
    "    GROUP BY customer_id\n",
    "    ORDER BY sales DESC\n",
    "    LIMIT 10 \"\"\")"
   ]
  },
  {
   "cell_type": "code",
   "execution_count": 9,
   "metadata": {},
   "outputs": [
    {
     "data": {
      "text/plain": [
       "<sqlite3.Cursor at 0x28fb4fe8420>"
      ]
     },
     "execution_count": 9,
     "metadata": {},
     "output_type": "execute_result"
    }
   ],
   "source": [
    "cursor.execute(query2)"
   ]
  },
  {
   "cell_type": "code",
   "execution_count": 10,
   "metadata": {},
   "outputs": [
    {
     "data": {
      "text/html": [
       "<div>\n",
       "<style scoped>\n",
       "    .dataframe tbody tr th:only-of-type {\n",
       "        vertical-align: middle;\n",
       "    }\n",
       "\n",
       "    .dataframe tbody tr th {\n",
       "        vertical-align: top;\n",
       "    }\n",
       "\n",
       "    .dataframe thead th {\n",
       "        text-align: right;\n",
       "    }\n",
       "</style>\n",
       "<table border=\"1\" class=\"dataframe\">\n",
       "  <thead>\n",
       "    <tr style=\"text-align: right;\">\n",
       "      <th></th>\n",
       "      <th>customer_id</th>\n",
       "      <th>sales</th>\n",
       "    </tr>\n",
       "  </thead>\n",
       "  <tbody>\n",
       "    <tr>\n",
       "      <th>0</th>\n",
       "      <td>1617b1357756262bfa56ab541c47bc16</td>\n",
       "      <td>13664.08</td>\n",
       "    </tr>\n",
       "    <tr>\n",
       "      <th>1</th>\n",
       "      <td>ec5b2ba62e574342386871631fafd3fc</td>\n",
       "      <td>7274.88</td>\n",
       "    </tr>\n",
       "    <tr>\n",
       "      <th>2</th>\n",
       "      <td>c6e2731c5b391845f6800c97401a43a9</td>\n",
       "      <td>6929.31</td>\n",
       "    </tr>\n",
       "    <tr>\n",
       "      <th>3</th>\n",
       "      <td>f48d464a0baaea338cb25f816991ab1f</td>\n",
       "      <td>6922.21</td>\n",
       "    </tr>\n",
       "    <tr>\n",
       "      <th>4</th>\n",
       "      <td>3fd6777bbce08a352fddd04e4a7cc8f6</td>\n",
       "      <td>6726.66</td>\n",
       "    </tr>\n",
       "    <tr>\n",
       "      <th>5</th>\n",
       "      <td>05455dfa7cd02f13d132aa7a6a9729c6</td>\n",
       "      <td>6081.54</td>\n",
       "    </tr>\n",
       "    <tr>\n",
       "      <th>6</th>\n",
       "      <td>df55c14d1476a9a3467f131269c2477f</td>\n",
       "      <td>4950.34</td>\n",
       "    </tr>\n",
       "    <tr>\n",
       "      <th>7</th>\n",
       "      <td>e0a2412720e9ea4f26c1ac985f6a7358</td>\n",
       "      <td>4809.44</td>\n",
       "    </tr>\n",
       "    <tr>\n",
       "      <th>8</th>\n",
       "      <td>24bbf5fd2f2e1b359ee7de94defc4a15</td>\n",
       "      <td>4764.34</td>\n",
       "    </tr>\n",
       "    <tr>\n",
       "      <th>9</th>\n",
       "      <td>3d979689f636322c62418b6346b1c6d2</td>\n",
       "      <td>4681.78</td>\n",
       "    </tr>\n",
       "  </tbody>\n",
       "</table>\n",
       "</div>"
      ],
      "text/plain": [
       "                        customer_id     sales\n",
       "0  1617b1357756262bfa56ab541c47bc16  13664.08\n",
       "1  ec5b2ba62e574342386871631fafd3fc   7274.88\n",
       "2  c6e2731c5b391845f6800c97401a43a9   6929.31\n",
       "3  f48d464a0baaea338cb25f816991ab1f   6922.21\n",
       "4  3fd6777bbce08a352fddd04e4a7cc8f6   6726.66\n",
       "5  05455dfa7cd02f13d132aa7a6a9729c6   6081.54\n",
       "6  df55c14d1476a9a3467f131269c2477f   4950.34\n",
       "7  e0a2412720e9ea4f26c1ac985f6a7358   4809.44\n",
       "8  24bbf5fd2f2e1b359ee7de94defc4a15   4764.34\n",
       "9  3d979689f636322c62418b6346b1c6d2   4681.78"
      ]
     },
     "execution_count": 10,
     "metadata": {},
     "output_type": "execute_result"
    }
   ],
   "source": [
    "result2_10 = pd.read_sql(query2_10, connection)\n",
    "result2_10"
   ]
  },
  {
   "cell_type": "code",
   "execution_count": 11,
   "metadata": {},
   "outputs": [
    {
     "data": {
      "text/plain": [
       "pandas.core.frame.DataFrame"
      ]
     },
     "execution_count": 11,
     "metadata": {},
     "output_type": "execute_result"
    }
   ],
   "source": [
    "type(result2_10)"
   ]
  },
  {
   "cell_type": "code",
   "execution_count": 12,
   "metadata": {},
   "outputs": [
    {
     "data": {
      "text/plain": [
       "10"
      ]
     },
     "execution_count": 12,
     "metadata": {},
     "output_type": "execute_result"
    }
   ],
   "source": [
    "len(result2_10)"
   ]
  },
  {
   "cell_type": "code",
   "execution_count": 13,
   "metadata": {},
   "outputs": [
    {
     "data": {
      "text/plain": [
       "Text(0, 0.5, 'customer_id')"
      ]
     },
     "execution_count": 13,
     "metadata": {},
     "output_type": "execute_result"
    },
    {
     "data": {
      "image/png": "[encoded data removed]",
      "text/plain": [
       "<Figure size 1152x648 with 1 Axes>"
      ]
     },
     "metadata": {
      "needs_background": "light"
     },
     "output_type": "display_data"
    }
   ],
   "source": [
    "fig=plt.figure(figsize=(16,9))\n",
    "plt.rcParams.update({'font.size': 15})\n",
    "plt.style.use('seaborn-whitegrid')\n",
    "sns.barplot(data = result2_10, x = \"sales\", y = \"customer_id\", color = \"#FF0000\")\n",
    "plt.title('Top ten Customers by Amount of Sales')\n",
    "plt.xlabel('sales')\n",
    "plt.ylabel('customer_id')"
   ]
  },
  {
   "cell_type": "code",
   "execution_count": 14,
   "metadata": {},
   "outputs": [],
   "source": [
    "query3_10 = (\n",
    "    \"\"\"SELECT orders.customer_id, SUM(order_item_id) AS order_nb\n",
    "    FROM orders\n",
    "    INNER JOIN items \n",
    "    ON items.order_id = orders.order_id\n",
    "    GROUP BY customer_id\n",
    "    ORDER BY order_nb DESC\n",
    "    LIMIT 10\"\"\"\n",
    "    )"
   ]
  },
  {
   "cell_type": "code",
   "execution_count": 15,
   "metadata": {},
   "outputs": [
    {
     "data": {
      "text/html": [
       "<div>\n",
       "<style scoped>\n",
       "    .dataframe tbody tr th:only-of-type {\n",
       "        vertical-align: middle;\n",
       "    }\n",
       "\n",
       "    .dataframe tbody tr th {\n",
       "        vertical-align: top;\n",
       "    }\n",
       "\n",
       "    .dataframe thead th {\n",
       "        text-align: right;\n",
       "    }\n",
       "</style>\n",
       "<table border=\"1\" class=\"dataframe\">\n",
       "  <thead>\n",
       "    <tr style=\"text-align: right;\">\n",
       "      <th></th>\n",
       "      <th>customer_id</th>\n",
       "      <th>order_nb</th>\n",
       "    </tr>\n",
       "  </thead>\n",
       "  <tbody>\n",
       "    <tr>\n",
       "      <th>0</th>\n",
       "      <td>fc3d1daec319d62d49bfb5e1f83123e9</td>\n",
       "      <td>231</td>\n",
       "    </tr>\n",
       "    <tr>\n",
       "      <th>1</th>\n",
       "      <td>be1b70680b9f9694d8c70f41fa3dc92b</td>\n",
       "      <td>210</td>\n",
       "    </tr>\n",
       "    <tr>\n",
       "      <th>2</th>\n",
       "      <td>bd5d39761aa56689a265d95d8d32b8be</td>\n",
       "      <td>210</td>\n",
       "    </tr>\n",
       "    <tr>\n",
       "      <th>3</th>\n",
       "      <td>adb32467ecc74b53576d9d13a5a55891</td>\n",
       "      <td>120</td>\n",
       "    </tr>\n",
       "    <tr>\n",
       "      <th>4</th>\n",
       "      <td>10de381f8a8d23fff822753305f71cae</td>\n",
       "      <td>120</td>\n",
       "    </tr>\n",
       "    <tr>\n",
       "      <th>5</th>\n",
       "      <td>d5f2b3f597c7ccafbb5cac0bcc3d6024</td>\n",
       "      <td>105</td>\n",
       "    </tr>\n",
       "    <tr>\n",
       "      <th>6</th>\n",
       "      <td>a7693fba2ff9583c78751f2b66ecab9d</td>\n",
       "      <td>105</td>\n",
       "    </tr>\n",
       "    <tr>\n",
       "      <th>7</th>\n",
       "      <td>7d321bd4e8ba1caf74c4c1aabd9ae524</td>\n",
       "      <td>91</td>\n",
       "    </tr>\n",
       "    <tr>\n",
       "      <th>8</th>\n",
       "      <td>daf15f1b940cc6a72ba558f093dc00dd</td>\n",
       "      <td>78</td>\n",
       "    </tr>\n",
       "    <tr>\n",
       "      <th>9</th>\n",
       "      <td>9eb3d566e87289dcb0acf28e1407c839</td>\n",
       "      <td>78</td>\n",
       "    </tr>\n",
       "  </tbody>\n",
       "</table>\n",
       "</div>"
      ],
      "text/plain": [
       "                        customer_id  order_nb\n",
       "0  fc3d1daec319d62d49bfb5e1f83123e9       231\n",
       "1  be1b70680b9f9694d8c70f41fa3dc92b       210\n",
       "2  bd5d39761aa56689a265d95d8d32b8be       210\n",
       "3  adb32467ecc74b53576d9d13a5a55891       120\n",
       "4  10de381f8a8d23fff822753305f71cae       120\n",
       "5  d5f2b3f597c7ccafbb5cac0bcc3d6024       105\n",
       "6  a7693fba2ff9583c78751f2b66ecab9d       105\n",
       "7  7d321bd4e8ba1caf74c4c1aabd9ae524        91\n",
       "8  daf15f1b940cc6a72ba558f093dc00dd        78\n",
       "9  9eb3d566e87289dcb0acf28e1407c839        78"
      ]
     },
     "execution_count": 15,
     "metadata": {},
     "output_type": "execute_result"
    }
   ],
   "source": [
    "result3_10 = pd.read_sql(query3_10, connection)\n",
    "result3_10"
   ]
  },
  {
   "cell_type": "code",
   "execution_count": 16,
   "metadata": {},
   "outputs": [
    {
     "data": {
      "text/plain": [
       "Text(0, 0.5, 'customer_id')"
      ]
     },
     "execution_count": 16,
     "metadata": {},
     "output_type": "execute_result"
    },
    {
     "data": {
      "image/png": "[encoded data removed]",
      "text/plain": [
       "<Figure size 1152x648 with 1 Axes>"
      ]
     },
     "metadata": {},
     "output_type": "display_data"
    }
   ],
   "source": [
    "fig=plt.figure(figsize=(16,9))\n",
    "sns.barplot(data = result3_10, y=\"customer_id\", x=\"order_nb\")\n",
    "plt.title('Top ten Customers by  Orders Amount')\n",
    "plt.xlabel('Orders Counts')\n",
    "plt.ylabel('customer_id')"
   ]
  },
  {
   "cell_type": "code",
   "execution_count": 17,
   "metadata": {},
   "outputs": [],
   "source": [
    "query4_10 = (\n",
    "    \"\"\"SELECT customer_state,  COUNT(customer_id) AS nb_customer\n",
    "    FROM customer \n",
    "    GROUP BY customer_state\n",
    "    ORDER BY nb_customer DESC\n",
    "    LIMIT 10\"\"\"\n",
    "    )"
   ]
  },
  {
   "cell_type": "code",
   "execution_count": 18,
   "metadata": {},
   "outputs": [
    {
     "data": {
      "text/html": [
       "<div>\n",
       "<style scoped>\n",
       "    .dataframe tbody tr th:only-of-type {\n",
       "        vertical-align: middle;\n",
       "    }\n",
       "\n",
       "    .dataframe tbody tr th {\n",
       "        vertical-align: top;\n",
       "    }\n",
       "\n",
       "    .dataframe thead th {\n",
       "        text-align: right;\n",
       "    }\n",
       "</style>\n",
       "<table border=\"1\" class=\"dataframe\">\n",
       "  <thead>\n",
       "    <tr style=\"text-align: right;\">\n",
       "      <th></th>\n",
       "      <th>customer_state</th>\n",
       "      <th>nb_customer</th>\n",
       "    </tr>\n",
       "  </thead>\n",
       "  <tbody>\n",
       "    <tr>\n",
       "      <th>0</th>\n",
       "      <td>SP</td>\n",
       "      <td>41746</td>\n",
       "    </tr>\n",
       "    <tr>\n",
       "      <th>1</th>\n",
       "      <td>RJ</td>\n",
       "      <td>12852</td>\n",
       "    </tr>\n",
       "    <tr>\n",
       "      <th>2</th>\n",
       "      <td>MG</td>\n",
       "      <td>11635</td>\n",
       "    </tr>\n",
       "    <tr>\n",
       "      <th>3</th>\n",
       "      <td>RS</td>\n",
       "      <td>5466</td>\n",
       "    </tr>\n",
       "    <tr>\n",
       "      <th>4</th>\n",
       "      <td>PR</td>\n",
       "      <td>5045</td>\n",
       "    </tr>\n",
       "    <tr>\n",
       "      <th>5</th>\n",
       "      <td>SC</td>\n",
       "      <td>3637</td>\n",
       "    </tr>\n",
       "    <tr>\n",
       "      <th>6</th>\n",
       "      <td>BA</td>\n",
       "      <td>3380</td>\n",
       "    </tr>\n",
       "    <tr>\n",
       "      <th>7</th>\n",
       "      <td>DF</td>\n",
       "      <td>2140</td>\n",
       "    </tr>\n",
       "    <tr>\n",
       "      <th>8</th>\n",
       "      <td>ES</td>\n",
       "      <td>2033</td>\n",
       "    </tr>\n",
       "    <tr>\n",
       "      <th>9</th>\n",
       "      <td>GO</td>\n",
       "      <td>2020</td>\n",
       "    </tr>\n",
       "  </tbody>\n",
       "</table>\n",
       "</div>"
      ],
      "text/plain": [
       "  customer_state  nb_customer\n",
       "0             SP        41746\n",
       "1             RJ        12852\n",
       "2             MG        11635\n",
       "3             RS         5466\n",
       "4             PR         5045\n",
       "5             SC         3637\n",
       "6             BA         3380\n",
       "7             DF         2140\n",
       "8             ES         2033\n",
       "9             GO         2020"
      ]
     },
     "execution_count": 18,
     "metadata": {},
     "output_type": "execute_result"
    }
   ],
   "source": [
    "result4_10 = pd.read_sql(query4_10 , connection)\n",
    "result4_10"
   ]
  },
  {
   "cell_type": "code",
   "execution_count": 19,
   "metadata": {},
   "outputs": [
    {
     "data": {
      "text/plain": [
       "Text(0, 0.5, 'Number of Customers')"
      ]
     },
     "execution_count": 19,
     "metadata": {},
     "output_type": "execute_result"
    },
    {
     "data": {
      "image/png": "[encoded data removed]",
      "text/plain": [
       "<Figure size 1440x576 with 1 Axes>"
      ]
     },
     "metadata": {},
     "output_type": "display_data"
    }
   ],
   "source": [
    "plt.figure(figsize = (20,8))\n",
    "plt.subplot(121)\n",
    "sns.barplot(data = result4_10, x = 'customer_state', y = 'nb_customer', color = \"blue\")\n",
    "plt.title('Top ten states with most Customers')\n",
    "plt.xlabel('State')\n",
    "plt.ylabel('Number of Customers')"
   ]
  },
  {
   "cell_type": "code",
   "execution_count": 20,
   "metadata": {},
   "outputs": [],
   "source": [
    "query5_10 = (\n",
    "    \"\"\"SELECT orders.customer_id, COUNT(items.order_id) as nb_orders \n",
    "    FROM orders\n",
    "    INNER JOIN items ON orders.order_id = items.order_id \n",
    "    GROUP BY customer_id\n",
    "    HAVING  nb_orders > 1\"\"\"\n",
    "    )"
   ]
  },
  {
   "cell_type": "code",
   "execution_count": 21,
   "metadata": {},
   "outputs": [
    {
     "data": {
      "text/html": [
       "<div>\n",
       "<style scoped>\n",
       "    .dataframe tbody tr th:only-of-type {\n",
       "        vertical-align: middle;\n",
       "    }\n",
       "\n",
       "    .dataframe tbody tr th {\n",
       "        vertical-align: top;\n",
       "    }\n",
       "\n",
       "    .dataframe thead th {\n",
       "        text-align: right;\n",
       "    }\n",
       "</style>\n",
       "<table border=\"1\" class=\"dataframe\">\n",
       "  <thead>\n",
       "    <tr style=\"text-align: right;\">\n",
       "      <th></th>\n",
       "      <th>customer_id</th>\n",
       "      <th>nb_orders</th>\n",
       "    </tr>\n",
       "  </thead>\n",
       "  <tbody>\n",
       "    <tr>\n",
       "      <th>0</th>\n",
       "      <td>00066ccbe787a588c52bd5ff404590e3</td>\n",
       "      <td>4</td>\n",
       "    </tr>\n",
       "    <tr>\n",
       "      <th>1</th>\n",
       "      <td>000bf8121c3412d3057d32371c5d3395</td>\n",
       "      <td>2</td>\n",
       "    </tr>\n",
       "    <tr>\n",
       "      <th>2</th>\n",
       "      <td>001450ebb4a77efb3d68be5f7887cb1e</td>\n",
       "      <td>2</td>\n",
       "    </tr>\n",
       "    <tr>\n",
       "      <th>3</th>\n",
       "      <td>002f90a6eb386bc43bc9ba200db31a89</td>\n",
       "      <td>2</td>\n",
       "    </tr>\n",
       "    <tr>\n",
       "      <th>4</th>\n",
       "      <td>0031abfb953b66e998f67b09e7b11375</td>\n",
       "      <td>2</td>\n",
       "    </tr>\n",
       "    <tr>\n",
       "      <th>...</th>\n",
       "      <td>...</td>\n",
       "      <td>...</td>\n",
       "    </tr>\n",
       "    <tr>\n",
       "      <th>9798</th>\n",
       "      <td>ffe7ffb7c7ae0d42808f387578426b3b</td>\n",
       "      <td>2</td>\n",
       "    </tr>\n",
       "    <tr>\n",
       "      <th>9799</th>\n",
       "      <td>ffed5d4f6245fe13cd57054621eec36a</td>\n",
       "      <td>2</td>\n",
       "    </tr>\n",
       "    <tr>\n",
       "      <th>9800</th>\n",
       "      <td>fff168ca1f8a1d2e8e2108b231a68a8c</td>\n",
       "      <td>3</td>\n",
       "    </tr>\n",
       "    <tr>\n",
       "      <th>9801</th>\n",
       "      <td>fff93c1da78dafaaa304ff032abc6205</td>\n",
       "      <td>3</td>\n",
       "    </tr>\n",
       "    <tr>\n",
       "      <th>9802</th>\n",
       "      <td>ffffa3172527f765de70084a7e53aae8</td>\n",
       "      <td>2</td>\n",
       "    </tr>\n",
       "  </tbody>\n",
       "</table>\n",
       "<p>9803 rows × 2 columns</p>\n",
       "</div>"
      ],
      "text/plain": [
       "                           customer_id  nb_orders\n",
       "0     00066ccbe787a588c52bd5ff404590e3          4\n",
       "1     000bf8121c3412d3057d32371c5d3395          2\n",
       "2     001450ebb4a77efb3d68be5f7887cb1e          2\n",
       "3     002f90a6eb386bc43bc9ba200db31a89          2\n",
       "4     0031abfb953b66e998f67b09e7b11375          2\n",
       "...                                ...        ...\n",
       "9798  ffe7ffb7c7ae0d42808f387578426b3b          2\n",
       "9799  ffed5d4f6245fe13cd57054621eec36a          2\n",
       "9800  fff168ca1f8a1d2e8e2108b231a68a8c          3\n",
       "9801  fff93c1da78dafaaa304ff032abc6205          3\n",
       "9802  ffffa3172527f765de70084a7e53aae8          2\n",
       "\n",
       "[9803 rows x 2 columns]"
      ]
     },
     "execution_count": 21,
     "metadata": {},
     "output_type": "execute_result"
    }
   ],
   "source": [
    "result5_10 = pd.read_sql(query5_10 , connection)\n",
    "result5_10"
   ]
  },
  {
   "cell_type": "markdown",
   "metadata": {},
   "source": [
    "## **Sales:**"
   ]
  },
  {
   "cell_type": "markdown",
   "metadata": {},
   "source": [
    "### 1. What is the average basket by product category?"
   ]
  },
  {
   "cell_type": "code",
   "execution_count": 22,
   "metadata": {},
   "outputs": [],
   "source": [
    "query6_10 = (\n",
    "    \"\"\"SELECT  products.product_category_name, ROUND(AVG(items.price + items.freight_value), 2) AS avg_basket\n",
    "    FROM items \n",
    "    INNER JOIN products ON items.product_id = products.product_id\n",
    "    GROUP BY products.product_category_name\n",
    "    ORDER BY avg_basket DESC LIMIT 10\"\"\"\n",
    "    )"
   ]
  },
  {
   "cell_type": "code",
   "execution_count": 23,
   "metadata": {},
   "outputs": [
    {
     "data": {
      "text/html": [
       "<div>\n",
       "<style scoped>\n",
       "    .dataframe tbody tr th:only-of-type {\n",
       "        vertical-align: middle;\n",
       "    }\n",
       "\n",
       "    .dataframe tbody tr th {\n",
       "        vertical-align: top;\n",
       "    }\n",
       "\n",
       "    .dataframe thead th {\n",
       "        text-align: right;\n",
       "    }\n",
       "</style>\n",
       "<table border=\"1\" class=\"dataframe\">\n",
       "  <thead>\n",
       "    <tr style=\"text-align: right;\">\n",
       "      <th></th>\n",
       "      <th>product_category_name</th>\n",
       "      <th>avg_basket</th>\n",
       "    </tr>\n",
       "  </thead>\n",
       "  <tbody>\n",
       "    <tr>\n",
       "      <th>0</th>\n",
       "      <td>computers</td>\n",
       "      <td>1146.80</td>\n",
       "    </tr>\n",
       "    <tr>\n",
       "      <th>1</th>\n",
       "      <td>small_appliances_home_oven_and_coffee</td>\n",
       "      <td>660.44</td>\n",
       "    </tr>\n",
       "    <tr>\n",
       "      <th>2</th>\n",
       "      <td>home_appliances_2</td>\n",
       "      <td>520.66</td>\n",
       "    </tr>\n",
       "    <tr>\n",
       "      <th>3</th>\n",
       "      <td>agro_industry_and_commerce</td>\n",
       "      <td>369.69</td>\n",
       "    </tr>\n",
       "    <tr>\n",
       "      <th>4</th>\n",
       "      <td>musical_instruments</td>\n",
       "      <td>309.03</td>\n",
       "    </tr>\n",
       "    <tr>\n",
       "      <th>5</th>\n",
       "      <td>small_appliances</td>\n",
       "      <td>304.37</td>\n",
       "    </tr>\n",
       "    <tr>\n",
       "      <th>6</th>\n",
       "      <td>fixed_telephony</td>\n",
       "      <td>243.26</td>\n",
       "    </tr>\n",
       "    <tr>\n",
       "      <th>7</th>\n",
       "      <td>construction_tools_safety</td>\n",
       "      <td>229.19</td>\n",
       "    </tr>\n",
       "    <tr>\n",
       "      <th>8</th>\n",
       "      <td>furniture_bedroom</td>\n",
       "      <td>226.25</td>\n",
       "    </tr>\n",
       "    <tr>\n",
       "      <th>9</th>\n",
       "      <td>watches_gifts</td>\n",
       "      <td>217.92</td>\n",
       "    </tr>\n",
       "  </tbody>\n",
       "</table>\n",
       "</div>"
      ],
      "text/plain": [
       "                   product_category_name  avg_basket\n",
       "0                              computers     1146.80\n",
       "1  small_appliances_home_oven_and_coffee      660.44\n",
       "2                      home_appliances_2      520.66\n",
       "3             agro_industry_and_commerce      369.69\n",
       "4                    musical_instruments      309.03\n",
       "5                       small_appliances      304.37\n",
       "6                        fixed_telephony      243.26\n",
       "7              construction_tools_safety      229.19\n",
       "8                      furniture_bedroom      226.25\n",
       "9                          watches_gifts      217.92"
      ]
     },
     "execution_count": 23,
     "metadata": {},
     "output_type": "execute_result"
    }
   ],
   "source": [
    "result6_10 = pd.read_sql(query6_10 , connection)\n",
    "result6_10"
   ]
  },
  {
   "cell_type": "markdown",
   "metadata": {},
   "source": [
    "### 2. What are the most popular products?"
   ]
  },
  {
   "cell_type": "code",
   "execution_count": 24,
   "metadata": {},
   "outputs": [],
   "source": [
    "query7_10 = (\n",
    "    \"\"\"SELECT product_category_name, COUNT(product_category_name) AS most_product\n",
    "FROM products\n",
    "GROUP BY product_category_name\n",
    "ORDER BY most_product DESC \"\"\"\n",
    "    )"
   ]
  },
  {
   "cell_type": "code",
   "execution_count": 25,
   "metadata": {},
   "outputs": [
    {
     "data": {
      "text/html": [
       "<div>\n",
       "<style scoped>\n",
       "    .dataframe tbody tr th:only-of-type {\n",
       "        vertical-align: middle;\n",
       "    }\n",
       "\n",
       "    .dataframe tbody tr th {\n",
       "        vertical-align: top;\n",
       "    }\n",
       "\n",
       "    .dataframe thead th {\n",
       "        text-align: right;\n",
       "    }\n",
       "</style>\n",
       "<table border=\"1\" class=\"dataframe\">\n",
       "  <thead>\n",
       "    <tr style=\"text-align: right;\">\n",
       "      <th></th>\n",
       "      <th>product_category_name</th>\n",
       "      <th>most_product</th>\n",
       "    </tr>\n",
       "  </thead>\n",
       "  <tbody>\n",
       "    <tr>\n",
       "      <th>0</th>\n",
       "      <td>bed_bath_table</td>\n",
       "      <td>3029</td>\n",
       "    </tr>\n",
       "    <tr>\n",
       "      <th>1</th>\n",
       "      <td>sports_leisure</td>\n",
       "      <td>2867</td>\n",
       "    </tr>\n",
       "    <tr>\n",
       "      <th>2</th>\n",
       "      <td>furniture_decor</td>\n",
       "      <td>2657</td>\n",
       "    </tr>\n",
       "    <tr>\n",
       "      <th>3</th>\n",
       "      <td>health_beauty</td>\n",
       "      <td>2444</td>\n",
       "    </tr>\n",
       "    <tr>\n",
       "      <th>4</th>\n",
       "      <td>housewares</td>\n",
       "      <td>2335</td>\n",
       "    </tr>\n",
       "    <tr>\n",
       "      <th>...</th>\n",
       "      <td>...</td>\n",
       "      <td>...</td>\n",
       "    </tr>\n",
       "    <tr>\n",
       "      <th>67</th>\n",
       "      <td>home_comfort_2</td>\n",
       "      <td>5</td>\n",
       "    </tr>\n",
       "    <tr>\n",
       "      <th>68</th>\n",
       "      <td>fashion_childrens_clothes</td>\n",
       "      <td>5</td>\n",
       "    </tr>\n",
       "    <tr>\n",
       "      <th>69</th>\n",
       "      <td>security_and_services</td>\n",
       "      <td>2</td>\n",
       "    </tr>\n",
       "    <tr>\n",
       "      <th>70</th>\n",
       "      <td>cds_dvds_musicals</td>\n",
       "      <td>1</td>\n",
       "    </tr>\n",
       "    <tr>\n",
       "      <th>71</th>\n",
       "      <td>None</td>\n",
       "      <td>0</td>\n",
       "    </tr>\n",
       "  </tbody>\n",
       "</table>\n",
       "<p>72 rows × 2 columns</p>\n",
       "</div>"
      ],
      "text/plain": [
       "        product_category_name  most_product\n",
       "0              bed_bath_table          3029\n",
       "1              sports_leisure          2867\n",
       "2             furniture_decor          2657\n",
       "3               health_beauty          2444\n",
       "4                  housewares          2335\n",
       "..                        ...           ...\n",
       "67             home_comfort_2             5\n",
       "68  fashion_childrens_clothes             5\n",
       "69      security_and_services             2\n",
       "70          cds_dvds_musicals             1\n",
       "71                       None             0\n",
       "\n",
       "[72 rows x 2 columns]"
      ]
     },
     "execution_count": 25,
     "metadata": {},
     "output_type": "execute_result"
    }
   ],
   "source": [
    "result7_10 = pd.read_sql(query7_10 , connection)\n",
    "result7_10"
   ]
  }
 ],
 "metadata": {
  "kernelspec": {
   "display_name": "Python 3",
   "language": "python",
   "name": "python3"
  },
  "language_info": {
   "codemirror_mode": {
    "name": "ipython",
    "version": 3
   },
   "file_extension": ".py",
   "mimetype": "text/x-python",
   "name": "python",
   "nbconvert_exporter": "python",
   "pygments_lexer": "ipython3",
   "version": "3.8.5"
  }
 },
 "nbformat": 4,
 "nbformat_minor": 4
}
